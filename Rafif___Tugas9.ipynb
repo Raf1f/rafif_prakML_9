{
  "nbformat": 4,
  "cells": [
    {
      "source": [
        "import kagglehub\n",
        "organizations_crowdflower_twitter_airline_sentiment_path = kagglehub.dataset_download('organizations/crowdflower/twitter-airline-sentiment')\n",
        "\n",
        "print('Data source import complete.')\n"
      ],
      "metadata": {
        "id": "9OwBUh5ki6Kc"
      },
      "cell_type": "code",
      "outputs": [],
      "execution_count": null
    },
    {
      "cell_type": "markdown",
      "source": [
        "## Data loading and cleaning"
      ],
      "metadata": {
        "id": "4IYcb34Ji6Ki"
      }
    },
    {
      "cell_type": "code",
      "execution_count": null,
      "outputs": [],
      "source": [
        "%matplotlib inline\n",
        "%config InlineBackend.figure_format = 'retina'\n",
        "\n",
        "import numpy as np\n",
        "import pandas as pd\n",
        "from bs4 import BeautifulSoup\n",
        "import matplotlib.pyplot as plt\n",
        "import seaborn as sns\n",
        "\n",
        "import nltk\n",
        "from nltk.corpus import stopwords\n",
        "from nltk.stem import SnowballStemmer\n",
        "from nltk.tokenize import TweetTokenizer\n",
        "\n",
        "from sklearn.feature_extraction.text import CountVectorizer, TfidfTransformer\n",
        "from sklearn.linear_model import LogisticRegression\n",
        "from sklearn.svm import SVC\n",
        "from sklearn.model_selection import train_test_split, StratifiedKFold, cross_val_score\n",
        "from sklearn.pipeline import make_pipeline, Pipeline\n",
        "from sklearn.model_selection import GridSearchCV\n",
        "from sklearn.metrics import make_scorer, accuracy_score, f1_score\n",
        "from sklearn.metrics import roc_curve, auc\n",
        "from sklearn.metrics import confusion_matrix, roc_auc_score, recall_score, precision_score"
      ],
      "metadata": {
        "_uuid": "db376733d0954ea531a81ee31675624c5968706f",
        "collapsed": true,
        "_cell_guid": "d5db572f-3b58-42a5-979a-464769d52524",
        "id": "wFAY0Lnmi6Ki"
      }
    },
    {
      "cell_type": "code",
      "execution_count": null,
      "outputs": [],
      "source": [
        "data = pd.read_csv(\"../input/Tweets.csv\")"
      ],
      "metadata": {
        "collapsed": true,
        "id": "47Qcpnfii6Kj"
      }
    },
    {
      "cell_type": "code",
      "execution_count": null,
      "outputs": [],
      "source": [
        "data_clean = data.copy()\n",
        "data_clean = data_clean[data_clean['airline_sentiment_confidence'] > 0.65]\n",
        "data_clean['sentiment'] = data_clean['airline_sentiment'].\\\n",
        "    apply(lambda x: 1 if x=='negative' else 0)\n",
        "\n",
        "data_clean['text_clean'] = data_clean['text'].apply(lambda x: BeautifulSoup(x, \"lxml\").text)"
      ],
      "metadata": {
        "id": "0YxuZoI9i6Kk"
      }
    },
    {
      "cell_type": "code",
      "execution_count": null,
      "outputs": [],
      "source": [
        "data_clean['sentiment'] = data_clean['airline_sentiment'].apply(lambda x: 1 if x=='negative' else 0)"
      ],
      "metadata": {
        "collapsed": true,
        "id": "-G9P10rSi6Kl"
      }
    },
    {
      "cell_type": "code",
      "execution_count": null,
      "outputs": [],
      "source": [
        "data_clean = data_clean.loc[:, ['text_clean', 'sentiment']]"
      ],
      "metadata": {
        "id": "LSwlEa0Li6Km"
      }
    },
    {
      "cell_type": "code",
      "execution_count": null,
      "outputs": [],
      "source": [
        "data_clean.head()"
      ],
      "metadata": {
        "_kg_hide-output": false,
        "_kg_hide-input": false,
        "id": "L0rHjAB_i6Km"
      }
    },
    {
      "cell_type": "markdown",
      "source": [
        "## Machine Learning Model"
      ],
      "metadata": {
        "id": "Qz5bYQEFi6Km"
      }
    },
    {
      "cell_type": "markdown",
      "source": [
        "We split the data into training and testing set:"
      ],
      "metadata": {
        "id": "KNt4PBoMi6Kn"
      }
    },
    {
      "cell_type": "code",
      "execution_count": null,
      "outputs": [],
      "source": [
        "train, test = train_test_split(data_clean, test_size=0.2, random_state=1)\n",
        "X_train = train['text_clean'].values\n",
        "X_test = test['text_clean'].values\n",
        "y_train = train['sentiment']\n",
        "y_test = test['sentiment']"
      ],
      "metadata": {
        "collapsed": true,
        "id": "ymNjGR-7i6Kn"
      }
    },
    {
      "cell_type": "code",
      "execution_count": null,
      "outputs": [],
      "source": [
        "def tokenize(text):\n",
        "    tknzr = TweetTokenizer()\n",
        "    return tknzr.tokenize(text)\n",
        "\n",
        "def stem(doc):\n",
        "    return (stemmer.stem(w) for w in analyzer(doc))\n",
        "\n",
        "en_stopwords = set(stopwords.words(\"english\"))\n",
        "\n",
        "vectorizer = CountVectorizer(\n",
        "    analyzer = 'word',\n",
        "    tokenizer = tokenize,\n",
        "    lowercase = True,\n",
        "    ngram_range=(1, 1),\n",
        "    stop_words = en_stopwords)"
      ],
      "metadata": {
        "id": "2KoXar6hi6Kn"
      }
    },
    {
      "cell_type": "code",
      "execution_count": null,
      "outputs": [],
      "source": [
        "kfolds = StratifiedKFold(n_splits=5, shuffle=True, random_state=1)"
      ],
      "metadata": {
        "collapsed": true,
        "id": "0Fg9LN1fi6Kn"
      }
    },
    {
      "cell_type": "code",
      "execution_count": null,
      "outputs": [],
      "source": [
        "np.random.seed(1)\n",
        "\n",
        "pipeline_svm = make_pipeline(vectorizer,\n",
        "                            SVC(probability=True, kernel=\"linear\", class_weight=\"balanced\"))\n",
        "\n",
        "grid_svm = GridSearchCV(pipeline_svm,\n",
        "                    param_grid = {'svc__C': [0.01, 0.1, 1]},\n",
        "                    cv = kfolds,\n",
        "                    scoring=\"roc_auc\",\n",
        "                    verbose=1,\n",
        "                    n_jobs=-1)\n",
        "\n",
        "grid_svm.fit(X_train, y_train)\n",
        "grid_svm.score(X_test, y_test)"
      ],
      "metadata": {
        "id": "koWv-CJNi6Ko"
      }
    },
    {
      "cell_type": "code",
      "execution_count": null,
      "outputs": [],
      "source": [
        "grid_svm.best_params_"
      ],
      "metadata": {
        "id": "QXYaoJw-i6Ko"
      }
    },
    {
      "cell_type": "code",
      "execution_count": null,
      "outputs": [],
      "source": [
        "grid_svm.best_score_"
      ],
      "metadata": {
        "id": "KLyNU3JRi6Ko"
      }
    },
    {
      "cell_type": "code",
      "execution_count": null,
      "outputs": [],
      "source": [
        "def report_results(model, X, y):\n",
        "    pred_proba = model.predict_proba(X)[:, 1]\n",
        "    pred = model.predict(X)\n",
        "\n",
        "    auc = roc_auc_score(y, pred_proba)\n",
        "    acc = accuracy_score(y, pred)\n",
        "    f1 = f1_score(y, pred)\n",
        "    prec = precision_score(y, pred)\n",
        "    rec = recall_score(y, pred)\n",
        "    result = {'auc': auc, 'f1': f1, 'acc': acc, 'precision': prec, 'recall': rec}\n",
        "    return result"
      ],
      "metadata": {
        "collapsed": true,
        "id": "fVrK0py-i6Ko"
      }
    },
    {
      "cell_type": "markdown",
      "source": [
        "Let's see how the model (with the best hyperparameters) works on the test data:"
      ],
      "metadata": {
        "id": "LcS8b92-i6Ko"
      }
    },
    {
      "cell_type": "code",
      "execution_count": null,
      "outputs": [],
      "source": [
        "report_results(grid_svm.best_estimator_, X_test, y_test)"
      ],
      "metadata": {
        "id": "89MI3Od_i6Kp"
      }
    },
    {
      "cell_type": "code",
      "execution_count": null,
      "outputs": [],
      "source": [
        "def get_roc_curve(model, X, y):\n",
        "    pred_proba = model.predict_proba(X)[:, 1]\n",
        "    fpr, tpr, _ = roc_curve(y, pred_proba)\n",
        "    return fpr, tpr"
      ],
      "metadata": {
        "collapsed": true,
        "id": "Qv2ucoOvi6Kp"
      }
    },
    {
      "cell_type": "code",
      "execution_count": null,
      "outputs": [],
      "source": [
        "roc_svm = get_roc_curve(grid_svm.best_estimator_, X_test, y_test)"
      ],
      "metadata": {
        "id": "NMxMUhIii6Kp"
      }
    },
    {
      "cell_type": "code",
      "execution_count": null,
      "outputs": [],
      "source": [
        "fpr, tpr = roc_svm\n",
        "plt.figure(figsize=(14,8))\n",
        "plt.plot(fpr, tpr, color=\"red\")\n",
        "plt.plot([0, 1], [0, 1], color='black', lw=2, linestyle='--')\n",
        "plt.xlim([0.0, 1.0])\n",
        "plt.ylim([0.0, 1.05])\n",
        "plt.xlabel('False Positive Rate')\n",
        "plt.ylabel('True Positive Rate')\n",
        "plt.title('Roc curve')\n",
        "plt.show()"
      ],
      "metadata": {
        "id": "LpcaAk0-i6Kp"
      }
    },
    {
      "cell_type": "code",
      "execution_count": null,
      "outputs": [],
      "source": [
        "from sklearn.model_selection import learning_curve\n",
        "\n",
        "train_sizes, train_scores, test_scores = \\\n",
        "    learning_curve(grid_svm.best_estimator_, X_train, y_train, cv=5, n_jobs=-1,\n",
        "                   scoring=\"roc_auc\", train_sizes=np.linspace(.1, 1.0, 10), random_state=1)"
      ],
      "metadata": {
        "id": "hBo4w0W5i6Kp"
      }
    },
    {
      "cell_type": "code",
      "execution_count": null,
      "outputs": [],
      "source": [
        "def plot_learning_curve(X, y, train_sizes, train_scores, test_scores, title='', ylim=None, figsize=(14,8)):\n",
        "\n",
        "    plt.figure(figsize=figsize)\n",
        "    plt.title(title)\n",
        "    if ylim is not None:\n",
        "        plt.ylim(*ylim)\n",
        "    plt.xlabel(\"Training examples\")\n",
        "    plt.ylabel(\"Score\")\n",
        "\n",
        "    train_scores_mean = np.mean(train_scores, axis=1)\n",
        "    train_scores_std = np.std(train_scores, axis=1)\n",
        "    test_scores_mean = np.mean(test_scores, axis=1)\n",
        "    test_scores_std = np.std(test_scores, axis=1)\n",
        "    plt.grid()\n",
        "\n",
        "    plt.fill_between(train_sizes, train_scores_mean - train_scores_std,\n",
        "                     train_scores_mean + train_scores_std, alpha=0.1,\n",
        "                     color=\"r\")\n",
        "    plt.fill_between(train_sizes, test_scores_mean - test_scores_std,\n",
        "                     test_scores_mean + test_scores_std, alpha=0.1, color=\"g\")\n",
        "    plt.plot(train_sizes, train_scores_mean, 'o-', color=\"r\",\n",
        "             label=\"Training score\")\n",
        "    plt.plot(train_sizes, test_scores_mean, 'o-', color=\"g\",\n",
        "             label=\"Cross-validation score\")\n",
        "\n",
        "    plt.legend(loc=\"lower right\")\n",
        "    return plt"
      ],
      "metadata": {
        "collapsed": true,
        "id": "mIg1Sct4i6Kq"
      }
    },
    {
      "cell_type": "code",
      "execution_count": null,
      "outputs": [],
      "source": [
        "plot_learning_curve(X_train, y_train, train_sizes,\n",
        "                    train_scores, test_scores, ylim=(0.7, 1.01), figsize=(14,6))\n",
        "plt.show()"
      ],
      "metadata": {
        "id": "DUuzBshei6Kq"
      }
    },
    {
      "cell_type": "code",
      "execution_count": null,
      "outputs": [],
      "source": [
        "grid_svm.predict([\"flying with @united is always a great experience\"])"
      ],
      "metadata": {
        "id": "xXgHzeoLi6Kq"
      }
    },
    {
      "cell_type": "code",
      "execution_count": null,
      "outputs": [],
      "source": [
        "grid_svm.predict([\"flying with @united is always a great experience. If you don't lose your luggage\"])"
      ],
      "metadata": {
        "id": "3fExbCQgi6Kq"
      }
    },
    {
      "cell_type": "code",
      "execution_count": null,
      "outputs": [],
      "source": [
        "grid_svm.predict([\"I love @united. Sorry, just kidding!\"])"
      ],
      "metadata": {
        "id": "C3QDvvFEi6Kq"
      }
    },
    {
      "cell_type": "code",
      "execution_count": null,
      "outputs": [],
      "source": [
        "grid_svm.predict([\"@united very bad experience!\"])"
      ],
      "metadata": {
        "id": "ffEbpJFKi6Kr"
      }
    },
    {
      "cell_type": "code",
      "execution_count": null,
      "outputs": [],
      "source": [
        "grid_svm.predict([\"@united very bad experience!\"])"
      ],
      "metadata": {
        "id": "wGbCxU1yi6Kr"
      }
    }
  ],
  "metadata": {
    "kernelspec": {
      "display_name": "Python 3",
      "name": "python3",
      "language": "python"
    },
    "language_info": {
      "name": "python",
      "version": "3.6.1",
      "mimetype": "text/x-python",
      "pygments_lexer": "ipython3",
      "codemirror_mode": {
        "version": 3,
        "name": "ipython"
      },
      "nbconvert_exporter": "python",
      "file_extension": ".py"
    },
    "colab": {
      "provenance": []
    }
  },
  "nbformat_minor": 0
}